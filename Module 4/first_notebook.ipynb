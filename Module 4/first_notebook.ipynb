{
 "cells": [
  {
   "cell_type": "markdown",
   "id": "3a62a475",
   "metadata": {},
   "source": [
    "# A few important topics to know"
   ]
  },
  {
   "cell_type": "markdown",
   "id": "153ec3ab",
   "metadata": {},
   "source": [
    "### What is project Jupyter? "
   ]
  },
  {
   "cell_type": "markdown",
   "id": "495a6ac6",
   "metadata": {},
   "source": [
    "Project Jupyter has a base on the IPython project which began in 2006. IPython is an extended <b>interactive Python</b> shell. \n",
    "\n",
    "The <b>Jupyter project</b> was separated from the IPython project in 2014, is the <b>language agnostic</b> part of that project. \n",
    "\n",
    "Jupyter notebooks are an <b>executable document</b>.\n",
    "\n",
    "This executable document has a features that I want you to know about them before we talk about anything else. First, let's learn the cell types."
   ]
  },
  {
   "cell_type": "markdown",
   "id": "01e650ff",
   "metadata": {},
   "source": [
    "## Cell Types"
   ]
  },
  {
   "cell_type": "markdown",
   "id": "af9c5e64",
   "metadata": {},
   "source": [
    "### Code cells and Kernels"
   ]
  },
  {
   "cell_type": "markdown",
   "id": "323d982a",
   "metadata": {},
   "source": [
    "A code cell has a line of code that is run by a kernel. Kernels are like those programming languages or frameworks that you use to run a code. So what you see in the user interface must be backed by an executor engine that is called <b>kernels</b>.\n",
    "\n",
    "<b> DYI: </b> Find the kernels that are supported in this environment.\n",
    "\n",
    "The following cell is a code cell and as you see it is syntax highlighted. The code cells are run by clicking on the <b>Run</b> button or preseeing <b>Shift+Enter</b>. \n"
   ]
  },
  {
   "cell_type": "code",
   "execution_count": 1,
   "id": "007dd10d",
   "metadata": {},
   "outputs": [
    {
     "name": "stdout",
     "output_type": "stream",
     "text": [
      " this is a simple print\n"
     ]
    }
   ],
   "source": [
    "print (\" this is a simple print\")"
   ]
  },
  {
   "cell_type": "markdown",
   "id": "62e7b474",
   "metadata": {},
   "source": [
    "You can use internal or external modules (if you have installed the module on this computer) by importing them in the notebook:"
   ]
  },
  {
   "cell_type": "code",
   "execution_count": 2,
   "id": "121b784f",
   "metadata": {},
   "outputs": [],
   "source": [
    "import os"
   ]
  },
  {
   "cell_type": "code",
   "execution_count": 3,
   "id": "3d46e2b1",
   "metadata": {},
   "outputs": [
    {
     "data": {
      "text/plain": [
       "'/home/ec2-user/SageMaker'"
      ]
     },
     "execution_count": 3,
     "metadata": {},
     "output_type": "execute_result"
    }
   ],
   "source": [
    "os.getcwd()"
   ]
  },
  {
   "cell_type": "markdown",
   "id": "6e64ae5c",
   "metadata": {},
   "source": [
    "You can type ? mark after a function to see the documentation of that funtcion:"
   ]
  },
  {
   "cell_type": "code",
   "execution_count": 4,
   "id": "7e52b201",
   "metadata": {},
   "outputs": [],
   "source": [
    "os.getcwd?"
   ]
  },
  {
   "cell_type": "code",
   "execution_count": 5,
   "id": "59872af9",
   "metadata": {},
   "outputs": [
    {
     "data": {
      "text/plain": [
       "['first_notebook.ipynb', '.sparkmagic', '.ipynb_checkpoints', 'lost+found']"
      ]
     },
     "execution_count": 5,
     "metadata": {},
     "output_type": "execute_result"
    }
   ],
   "source": [
    "os.listdir()"
   ]
  },
  {
   "cell_type": "markdown",
   "id": "895292ba",
   "metadata": {},
   "source": [
    "Depending on the operating system that you run, you can type the os CLI commands directly"
   ]
  },
  {
   "cell_type": "code",
   "execution_count": 6,
   "id": "dcea3b1d",
   "metadata": {},
   "outputs": [
    {
     "name": "stdout",
     "output_type": "stream",
     "text": [
      "first_notebook.ipynb  lost+found\r\n"
     ]
    }
   ],
   "source": [
    "!dir "
   ]
  },
  {
   "cell_type": "markdown",
   "id": "43c1b8a7",
   "metadata": {},
   "source": [
    "or use:"
   ]
  },
  {
   "cell_type": "code",
   "execution_count": 7,
   "id": "c143e2c0",
   "metadata": {},
   "outputs": [
    {
     "name": "stdout",
     "output_type": "stream",
     "text": [
      "first_notebook.ipynb  lost+found\r\n"
     ]
    }
   ],
   "source": [
    "!ls"
   ]
  },
  {
   "cell_type": "markdown",
   "id": "460be787",
   "metadata": {},
   "source": [
    "<b> DYI:</b> Create a new directory by the <u>os</u> module "
   ]
  },
  {
   "cell_type": "markdown",
   "id": "6722fe5f",
   "metadata": {},
   "source": [
    "Let's fine the operating system that is behind this notebook instance:"
   ]
  },
  {
   "cell_type": "code",
   "execution_count": 8,
   "id": "2d887223",
   "metadata": {},
   "outputs": [
    {
     "name": "stdout",
     "output_type": "stream",
     "text": [
      "NAME=\"Amazon Linux\"\r\n",
      "VERSION=\"2\"\r\n",
      "ID=\"amzn\"\r\n",
      "ID_LIKE=\"centos rhel fedora\"\r\n",
      "VERSION_ID=\"2\"\r\n",
      "PRETTY_NAME=\"Amazon Linux 2\"\r\n",
      "ANSI_COLOR=\"0;33\"\r\n",
      "CPE_NAME=\"cpe:2.3:o:amazon:amazon_linux:2\"\r\n",
      "HOME_URL=\"https://amazonlinux.com/\"\r\n"
     ]
    }
   ],
   "source": [
    "!cat /etc/os-release"
   ]
  },
  {
   "cell_type": "markdown",
   "id": "33e5e103",
   "metadata": {},
   "source": [
    "Checking which directory we are now:"
   ]
  },
  {
   "cell_type": "code",
   "execution_count": 9,
   "id": "a2dc08ec",
   "metadata": {},
   "outputs": [
    {
     "name": "stdout",
     "output_type": "stream",
     "text": [
      "/home/ec2-user/SageMaker\r\n"
     ]
    }
   ],
   "source": [
    "!pwd"
   ]
  },
  {
   "cell_type": "markdown",
   "id": "5b948b94",
   "metadata": {},
   "source": [
    "### Markdown Cells"
   ]
  },
  {
   "cell_type": "markdown",
   "id": "4bb74a46",
   "metadata": {},
   "source": [
    "Jupyter Notebook supports Markdown, which is a markup language that is a <u>superset of HTML</u>. This cell, for examle, is a markdown cell.\n",
    "\n",
    "A few useful techniques to use have been listed below:\n",
    "- Creating <u>headers</u> by using <b># </b>sign. The more number of # signs you use, the smaller the header:\n",
    "\n",
    "     # header 1\n",
    "     ## header 2\n",
    "     ### header 3\n",
    "     \n",
    "     \n",
    "\n",
    "- You can create a list (bullet points) by using <b>-</b>, or <b>+</b> signs, or <b>*</b>.\n",
    "   - item 1\n",
    "   - item 2\n",
    "   + item 3\n",
    "   * item 4\n",
    "\n",
    "\n",
    "- You can create numbered list by using 1. item as shown below:\n",
    "\n",
    "1. item 1\n",
    "1. item 2\n",
    "1. item 3\n",
    "\n",
    "- You can create a link by using [text] and then (URL):\n",
    "\n",
    "[This is a link to aws web site](https://aws.amazon.com)\n",
    "\n",
    "\n",
    "- You can embed a code inside a text by back-tick\n",
    "\n",
    "This is my embeded code `print(\"this is a code\")`\n",
    "\n",
    "\n",
    "- You can embed a block of code by triple back-tick:\n",
    "\n",
    "```\n",
    "def Name():\n",
    "  print (\"your name here\")\n",
    "```\n",
    "\n",
    "- You can create a sub heading by using <b> > </b> symbol:\n",
    "> This is a sub heading\n",
    "\n",
    "\n",
    "- You can export a notebook to different formats. Click on File and <b> Download As</b> and see those types.\n",
    "\n",
    "<b> DIY:</b> How do you add an image inside a notebook?\n"
   ]
  },
  {
   "cell_type": "markdown",
   "id": "c986b321",
   "metadata": {},
   "source": [
    "### Magical commands cells"
   ]
  },
  {
   "cell_type": "markdown",
   "id": "689c76ec",
   "metadata": {},
   "source": [
    "The cells that have magical commands are magical cells. The magical commands are coming from IPython project. Those cells start either % (line magic) or %% (cell magic). Let's see all the magics we can run:"
   ]
  },
  {
   "cell_type": "code",
   "execution_count": 10,
   "id": "717a1f19",
   "metadata": {},
   "outputs": [
    {
     "data": {
      "application/json": {
       "cell": {
        "!": "OSMagics",
        "HTML": "Other",
        "SVG": "Other",
        "bash": "Other",
        "capture": "ExecutionMagics",
        "debug": "ExecutionMagics",
        "file": "Other",
        "html": "DisplayMagics",
        "javascript": "DisplayMagics",
        "js": "DisplayMagics",
        "latex": "DisplayMagics",
        "markdown": "DisplayMagics",
        "perl": "Other",
        "prun": "ExecutionMagics",
        "pypy": "Other",
        "python": "Other",
        "python2": "Other",
        "python3": "Other",
        "ruby": "Other",
        "script": "ScriptMagics",
        "sh": "Other",
        "svg": "DisplayMagics",
        "sx": "OSMagics",
        "system": "OSMagics",
        "time": "ExecutionMagics",
        "timeit": "ExecutionMagics",
        "writefile": "OSMagics"
       },
       "line": {
        "alias": "OSMagics",
        "alias_magic": "BasicMagics",
        "autoawait": "AsyncMagics",
        "autocall": "AutoMagics",
        "automagic": "AutoMagics",
        "autosave": "KernelMagics",
        "bookmark": "OSMagics",
        "cat": "Other",
        "cd": "OSMagics",
        "clear": "KernelMagics",
        "colors": "BasicMagics",
        "conda": "PackagingMagics",
        "config": "ConfigMagics",
        "connect_info": "KernelMagics",
        "cp": "Other",
        "debug": "ExecutionMagics",
        "dhist": "OSMagics",
        "dirs": "OSMagics",
        "doctest_mode": "BasicMagics",
        "ed": "Other",
        "edit": "KernelMagics",
        "env": "OSMagics",
        "gui": "BasicMagics",
        "hist": "Other",
        "history": "HistoryMagics",
        "killbgscripts": "ScriptMagics",
        "ldir": "Other",
        "less": "KernelMagics",
        "lf": "Other",
        "lk": "Other",
        "ll": "Other",
        "load": "CodeMagics",
        "load_ext": "ExtensionMagics",
        "loadpy": "CodeMagics",
        "logoff": "LoggingMagics",
        "logon": "LoggingMagics",
        "logstart": "LoggingMagics",
        "logstate": "LoggingMagics",
        "logstop": "LoggingMagics",
        "ls": "Other",
        "lsmagic": "BasicMagics",
        "lx": "Other",
        "macro": "ExecutionMagics",
        "magic": "BasicMagics",
        "man": "KernelMagics",
        "matplotlib": "PylabMagics",
        "mkdir": "Other",
        "more": "KernelMagics",
        "mv": "Other",
        "notebook": "BasicMagics",
        "page": "BasicMagics",
        "pastebin": "CodeMagics",
        "pdb": "ExecutionMagics",
        "pdef": "NamespaceMagics",
        "pdoc": "NamespaceMagics",
        "pfile": "NamespaceMagics",
        "pinfo": "NamespaceMagics",
        "pinfo2": "NamespaceMagics",
        "pip": "PackagingMagics",
        "popd": "OSMagics",
        "pprint": "BasicMagics",
        "precision": "BasicMagics",
        "prun": "ExecutionMagics",
        "psearch": "NamespaceMagics",
        "psource": "NamespaceMagics",
        "pushd": "OSMagics",
        "pwd": "OSMagics",
        "pycat": "OSMagics",
        "pylab": "PylabMagics",
        "qtconsole": "KernelMagics",
        "quickref": "BasicMagics",
        "recall": "HistoryMagics",
        "rehashx": "OSMagics",
        "reload_ext": "ExtensionMagics",
        "rep": "Other",
        "rerun": "HistoryMagics",
        "reset": "NamespaceMagics",
        "reset_selective": "NamespaceMagics",
        "rm": "Other",
        "rmdir": "Other",
        "run": "ExecutionMagics",
        "save": "CodeMagics",
        "sc": "OSMagics",
        "set_env": "OSMagics",
        "store": "StoreMagics",
        "sx": "OSMagics",
        "system": "OSMagics",
        "tb": "ExecutionMagics",
        "time": "ExecutionMagics",
        "timeit": "ExecutionMagics",
        "unalias": "OSMagics",
        "unload_ext": "ExtensionMagics",
        "who": "NamespaceMagics",
        "who_ls": "NamespaceMagics",
        "whos": "NamespaceMagics",
        "xdel": "NamespaceMagics",
        "xmode": "BasicMagics"
       }
      },
      "text/plain": [
       "Available line magics:\n",
       "%alias  %alias_magic  %autoawait  %autocall  %automagic  %autosave  %bookmark  %cat  %cd  %clear  %colors  %conda  %config  %connect_info  %cp  %debug  %dhist  %dirs  %doctest_mode  %ed  %edit  %env  %gui  %hist  %history  %killbgscripts  %ldir  %less  %lf  %lk  %ll  %load  %load_ext  %loadpy  %logoff  %logon  %logstart  %logstate  %logstop  %ls  %lsmagic  %lx  %macro  %magic  %man  %matplotlib  %mkdir  %more  %mv  %notebook  %page  %pastebin  %pdb  %pdef  %pdoc  %pfile  %pinfo  %pinfo2  %pip  %popd  %pprint  %precision  %prun  %psearch  %psource  %pushd  %pwd  %pycat  %pylab  %qtconsole  %quickref  %recall  %rehashx  %reload_ext  %rep  %rerun  %reset  %reset_selective  %rm  %rmdir  %run  %save  %sc  %set_env  %store  %sx  %system  %tb  %time  %timeit  %unalias  %unload_ext  %who  %who_ls  %whos  %xdel  %xmode\n",
       "\n",
       "Available cell magics:\n",
       "%%!  %%HTML  %%SVG  %%bash  %%capture  %%debug  %%file  %%html  %%javascript  %%js  %%latex  %%markdown  %%perl  %%prun  %%pypy  %%python  %%python2  %%python3  %%ruby  %%script  %%sh  %%svg  %%sx  %%system  %%time  %%timeit  %%writefile\n",
       "\n",
       "Automagic is ON, % prefix IS NOT needed for line magics."
      ]
     },
     "execution_count": 10,
     "metadata": {},
     "output_type": "execute_result"
    }
   ],
   "source": [
    "%lsmagic"
   ]
  },
  {
   "cell_type": "markdown",
   "id": "f5d80a5d",
   "metadata": {},
   "source": [
    "Let's say you want to know what the alias magic does. Same as other commands you use ? in front of that command:"
   ]
  },
  {
   "cell_type": "code",
   "execution_count": 11,
   "id": "14a54504",
   "metadata": {},
   "outputs": [],
   "source": [
    "%alias?"
   ]
  },
  {
   "cell_type": "markdown",
   "id": "57fdc1ef",
   "metadata": {},
   "source": [
    "One of the useful magics is <b>time</b> that shows how long that command takes to run:"
   ]
  },
  {
   "cell_type": "code",
   "execution_count": 12,
   "id": "113f5f08",
   "metadata": {},
   "outputs": [
    {
     "name": "stdout",
     "output_type": "stream",
     "text": [
      "CPU times: user 22 µs, sys: 0 ns, total: 22 µs\n",
      "Wall time: 26.9 µs\n"
     ]
    },
    {
     "data": {
      "text/plain": [
       "499500"
      ]
     },
     "execution_count": 12,
     "metadata": {},
     "output_type": "execute_result"
    }
   ],
   "source": [
    " %time sum(range(1000))"
   ]
  },
  {
   "cell_type": "code",
   "execution_count": 13,
   "id": "b796c1e5",
   "metadata": {},
   "outputs": [
    {
     "name": "stdout",
     "output_type": "stream",
     "text": [
      "hello world\n",
      "CPU times: user 634 µs, sys: 44 µs, total: 678 µs\n",
      "Wall time: 746 µs\n"
     ]
    }
   ],
   "source": [
    "%time print ('hello world')"
   ]
  },
  {
   "cell_type": "markdown",
   "id": "3698d29b",
   "metadata": {},
   "source": [
    "You can also use <b>timeit\"</b> to get a more accurate time calculation by asking how many times a cell to be executed and get the mean of that. Here we ask just run it once:"
   ]
  },
  {
   "cell_type": "code",
   "execution_count": 14,
   "id": "02655b17",
   "metadata": {},
   "outputs": [
    {
     "name": "stdout",
     "output_type": "stream",
     "text": [
      "2.02 µs ± 0 ns per loop (mean ± std. dev. of 1 run, 1 loop each)\n"
     ]
    }
   ],
   "source": [
    "%%timeit -r 1 -n 1\n",
    "total=0\n",
    "for y  in range (10):\n",
    "    if y%2==0:\n",
    "        total= total+y\n",
    "#print (total)"
   ]
  },
  {
   "cell_type": "markdown",
   "id": "1d8fbec7",
   "metadata": {},
   "source": [
    "Anoter useful magical command is to assemble the content here, in this notebook, then write that to a file. See the following example:"
   ]
  },
  {
   "cell_type": "code",
   "execution_count": 15,
   "id": "c4193242",
   "metadata": {},
   "outputs": [
    {
     "name": "stdout",
     "output_type": "stream",
     "text": [
      "Writing myfile.py\n"
     ]
    }
   ],
   "source": [
    "%%writefile myfile.py\n",
    "def hi_func():\n",
    "    print (\"Hello\")\n",
    "\n",
    "hi_func()"
   ]
  },
  {
   "cell_type": "code",
   "execution_count": 16,
   "id": "ea0f8bad",
   "metadata": {},
   "outputs": [
    {
     "name": "stdout",
     "output_type": "stream",
     "text": [
      "Hello\n"
     ]
    }
   ],
   "source": [
    "%run myfile.py"
   ]
  },
  {
   "cell_type": "markdown",
   "id": "5f859eca",
   "metadata": {},
   "source": [
    "You can also load the content of a file inside a cell by using the <u>%load filename</u>. As you see, after loading the file content, the load command itself is commented out. You can just run <u> %load myfile.py</u> and see what happens:"
   ]
  },
  {
   "cell_type": "code",
   "execution_count": 17,
   "id": "8397ab64",
   "metadata": {},
   "outputs": [],
   "source": [
    "# %load myfile.py\n",
    "\n"
   ]
  },
  {
   "cell_type": "markdown",
   "id": "2c56cf58",
   "metadata": {},
   "source": [
    "<b> DYI:</b> Use this [link](https://ipython.readthedocs.io/en/stable/interactive/magics.html) and select one of the magical commands we have not discussed and show how that works."
   ]
  },
  {
   "cell_type": "code",
   "execution_count": 18,
   "id": "1b0d0af4",
   "metadata": {},
   "outputs": [
    {
     "name": "stdout",
     "output_type": "stream",
     "text": [
      "Hello\n"
     ]
    }
   ],
   "source": [
    "# %load myfile.py\n",
    "def hi_func():\n",
    "    print (\"Hello\")\n",
    "\n",
    "hi_func()\n"
   ]
  },
  {
   "cell_type": "markdown",
   "id": "ab47423d",
   "metadata": {},
   "source": [
    "You can also run the code that you have loaded from the disk:"
   ]
  },
  {
   "cell_type": "code",
   "execution_count": 19,
   "id": "893bffb4",
   "metadata": {},
   "outputs": [
    {
     "name": "stdout",
     "output_type": "stream",
     "text": [
      "Hello\n"
     ]
    }
   ],
   "source": [
    "hi_func()"
   ]
  },
  {
   "cell_type": "markdown",
   "id": "2a08be2e",
   "metadata": {},
   "source": [
    "Anothet useful magical command is %env"
   ]
  },
  {
   "cell_type": "code",
   "execution_count": 20,
   "id": "de81b50b",
   "metadata": {},
   "outputs": [
    {
     "data": {
      "text/plain": [
       "{'MANPATH': '/opt/aws/neuron/share/man:/opt/aws/neuron/share/man:',\n",
       " 'XDG_SESSION_ID': 'c7',\n",
       " 'JAVA_LD_LIBRARY_PATH': '/home/ec2-user/anaconda3/envs/JupyterSystemEnv/lib/server',\n",
       " 'HOSTNAME': 'ip-172-16-54-192.us-west-2.compute.internal',\n",
       " 'SHELL': '/bin/bash',\n",
       " 'HISTSIZE': '1000',\n",
       " 'CONDA_SHLVL': '3',\n",
       " 'CONDA_PROMPT_MODIFIER': '(python3) ',\n",
       " 'GSETTINGS_SCHEMA_DIR_CONDA_BACKUP': '',\n",
       " 'USER': 'ec2-user',\n",
       " 'LD_LIBRARY_PATH': '/usr/local/cuda-11.0/lib64:/usr/local/cuda-11.0/extras/CUPTI/lib64:/usr/local/cuda-11.0/lib:/usr/local/cuda-11.0/efa/lib:/opt/amazon/efa/lib:/opt/amazon/efa/lib64:/opt/amazon/efa/lib64:/opt/amazon/openmpi/lib64:/usr/local/lib:/usr/lib:/lib:/opt/amazon/efa/lib64:/opt/amazon/openmpi/lib64:/usr/local/lib:/usr/lib:/lib:',\n",
       " 'CONDA_EXE': '/home/ec2-user/anaconda3/bin/conda',\n",
       " '_CE_CONDA': '',\n",
       " 'MAIL': '/var/spool/mail/ec2-user',\n",
       " 'PATH': '/usr/local/cuda-11.0/bin:/opt/amazon/openmpi/bin:/opt/amazon/efa/bin:/home/ec2-user/anaconda3/condabin:/home/ec2-user/.dl_binaries/bin:/opt/aws/neuron/bin:/usr/libexec/gcc/x86_64-redhat-linux/7:/opt/aws/bin:/home/ec2-user/anaconda3/envs/python3/bin:/home/ec2-user/anaconda3/condabin:/opt/amazon/openmpi/bin:/opt/amazon/efa/bin:/home/ec2-user/anaconda3/condabin:/home/ec2-user/.dl_binaries/bin:/opt/aws/neuron/bin:/usr/libexec/gcc/x86_64-redhat-linux/7:/opt/aws/bin:/usr/local/bin:/usr/bin:/usr/local/sbin:/usr/sbin',\n",
       " 'GSETTINGS_SCHEMA_DIR': '/home/ec2-user/anaconda3/envs/python3/share/glib-2.0/schemas',\n",
       " 'CONDA_PREFIX': '/home/ec2-user/anaconda3/envs/python3',\n",
       " 'PWD': '/home/ec2-user',\n",
       " 'JAVA_HOME': '/home/ec2-user/anaconda3/envs/JupyterSystemEnv',\n",
       " 'LANG': 'en_US.UTF-8',\n",
       " 'MODULEPATH': '/usr/share/Modules/modulefiles:/etc/modulefiles',\n",
       " 'LOADEDMODULES': '',\n",
       " '_CE_M': '',\n",
       " 'HISTCONTROL': 'ignoredups',\n",
       " 'SHLVL': '1',\n",
       " 'HOME': '/home/ec2-user',\n",
       " 'CONDA_PYTHON_EXE': '/home/ec2-user/anaconda3/bin/python',\n",
       " 'LOGNAME': 'ec2-user',\n",
       " 'MODULESHOME': '/usr/share/Modules',\n",
       " 'JAVA_HOME_CONDA_BACKUP': '',\n",
       " 'CONDA_DEFAULT_ENV': 'python3',\n",
       " 'LESSOPEN': '||/usr/bin/lesspipe.sh %s',\n",
       " 'PKG_CONFIG_PATH': '/usr/local/lib/pkgconfig:/usr/local/lib/pkgconfig:',\n",
       " 'XDG_RUNTIME_DIR': '/run/user/1000',\n",
       " 'JAVA_LD_LIBRARY_PATH_BACKUP': '',\n",
       " 'GIT_PYTHON_REFRESH': 'quiet',\n",
       " 'CUDA_PATH': '/usr/local/cuda-11.0',\n",
       " 'DLAMI_SAVED_CUDA_HOME': '',\n",
       " 'CUDA_HOME': '/usr/local/cuda-11.0',\n",
       " 'DLAMI_SAVED_CUDA_PATH': '',\n",
       " 'PYTHON_VERSION': '3.8',\n",
       " 'CONDA_PREFIX_1': '/home/ec2-user/anaconda3/envs/JupyterSystemEnv',\n",
       " 'CONDA_PREFIX_2': '/home/ec2-user/anaconda3',\n",
       " 'DLAMI_SAVED_PATH': '/opt/amazon/openmpi/bin:/opt/amazon/efa/bin:/home/ec2-user/anaconda3/condabin:/home/ec2-user/.dl_binaries/bin:/opt/aws/neuron/bin:/usr/libexec/gcc/x86_64-redhat-linux/7:/opt/aws/bin:/home/ec2-user/anaconda3/condabin:/opt/amazon/openmpi/bin:/opt/amazon/efa/bin:/home/ec2-user/anaconda3/condabin:/home/ec2-user/.dl_binaries/bin:/opt/aws/neuron/bin:/usr/libexec/gcc/x86_64-redhat-linux/7:/opt/aws/bin:/usr/local/bin:/usr/bin:/usr/local/sbin:/usr/sbin',\n",
       " 'DLAMI_SAVED_LD_LIBRARY_PATH': '/opt/amazon/efa/lib64:/opt/amazon/openmpi/lib64:/usr/local/lib:/usr/lib:/lib:/opt/amazon/efa/lib64:/opt/amazon/openmpi/lib64:/usr/local/lib:/usr/lib:/lib:',\n",
       " 'BASH_FUNC_module()': '() {  eval `/usr/bin/modulecmd bash $*`\\n}',\n",
       " '_': '/usr/bin/env\\n',\n",
       " 'JPY_PARENT_PID': '3751',\n",
       " 'PYDEVD_USE_FRAME_EVAL': 'NO',\n",
       " 'TERM': 'xterm-color',\n",
       " 'CLICOLOR': '1',\n",
       " 'PAGER': 'cat',\n",
       " 'GIT_PAGER': 'cat',\n",
       " 'MPLBACKEND': 'module://matplotlib_inline.backend_inline'}"
      ]
     },
     "execution_count": 20,
     "metadata": {},
     "output_type": "execute_result"
    }
   ],
   "source": [
    "%env"
   ]
  },
  {
   "cell_type": "markdown",
   "id": "f000f39b",
   "metadata": {},
   "source": [
    "You can also define the environment variables:"
   ]
  },
  {
   "cell_type": "code",
   "execution_count": 21,
   "id": "939b343b",
   "metadata": {},
   "outputs": [
    {
     "name": "stdout",
     "output_type": "stream",
     "text": [
      "env: KEY=\"1234\"\n"
     ]
    }
   ],
   "source": [
    "%env KEY=\"1234\""
   ]
  },
  {
   "cell_type": "code",
   "execution_count": 22,
   "id": "04e03d45",
   "metadata": {},
   "outputs": [
    {
     "data": {
      "text/plain": [
       "'\"1234\"'"
      ]
     },
     "execution_count": 22,
     "metadata": {},
     "output_type": "execute_result"
    }
   ],
   "source": [
    "%env KEY"
   ]
  },
  {
   "cell_type": "markdown",
   "id": "18e7c85d",
   "metadata": {},
   "source": [
    "## Checking the version of SageMaker SDK "
   ]
  },
  {
   "cell_type": "code",
   "execution_count": 23,
   "id": "a45604a1",
   "metadata": {},
   "outputs": [],
   "source": [
    "import sagemaker"
   ]
  },
  {
   "cell_type": "code",
   "execution_count": 24,
   "id": "8f9e8015",
   "metadata": {},
   "outputs": [
    {
     "data": {
      "text/plain": [
       "'2.119.0'"
      ]
     },
     "execution_count": 24,
     "metadata": {},
     "output_type": "execute_result"
    }
   ],
   "source": [
    "sagemaker.__version__"
   ]
  },
  {
   "cell_type": "markdown",
   "id": "8825d528",
   "metadata": {},
   "source": [
    "Let's see what role this instance is using:"
   ]
  },
  {
   "cell_type": "code",
   "execution_count": 25,
   "id": "334d700c",
   "metadata": {},
   "outputs": [],
   "source": [
    "from sagemaker import get_execution_role"
   ]
  },
  {
   "cell_type": "code",
   "execution_count": 26,
   "id": "5172dda0",
   "metadata": {},
   "outputs": [],
   "source": [
    "role_arn = get_execution_role()"
   ]
  },
  {
   "cell_type": "code",
   "execution_count": 27,
   "id": "52eb31bc",
   "metadata": {},
   "outputs": [
    {
     "name": "stdout",
     "output_type": "stream",
     "text": [
      "arn:aws:iam::330086343754:role/LabRole\n"
     ]
    }
   ],
   "source": [
    "print (role_arn)"
   ]
  },
  {
   "cell_type": "markdown",
   "id": "fe71e201",
   "metadata": {},
   "source": [
    "In the console, check this is the role that is assigned to this instance. It is important to know that, we use this role later when we create an <b>estimator</b> object in SageMake. "
   ]
  },
  {
   "cell_type": "markdown",
   "id": "74fe263f",
   "metadata": {},
   "source": [
    "### Checking the version of boto3"
   ]
  },
  {
   "cell_type": "markdown",
   "id": "aee83dc4",
   "metadata": {},
   "source": [
    "In addition to SageMaker Python SDK that you saw above, we can use AWS Python SDK called boto3. Before that you have to import it: "
   ]
  },
  {
   "cell_type": "code",
   "execution_count": 28,
   "id": "9f198269",
   "metadata": {},
   "outputs": [],
   "source": [
    "import boto3"
   ]
  },
  {
   "cell_type": "code",
   "execution_count": 29,
   "id": "02e04348",
   "metadata": {},
   "outputs": [
    {
     "name": "stdout",
     "output_type": "stream",
     "text": [
      "Name: boto3\r\n",
      "Version: 1.26.22\r\n",
      "Summary: The AWS SDK for Python\r\n",
      "Home-page: https://github.com/boto/boto3\r\n",
      "Author: Amazon Web Services\r\n",
      "Author-email: \r\n",
      "License: Apache License 2.0\r\n",
      "Location: /home/ec2-user/anaconda3/envs/python3/lib/python3.8/site-packages\r\n",
      "Requires: botocore, jmespath, s3transfer\r\n",
      "Required-by: s3fs, sagemaker, smclarify, smdebug\r\n"
     ]
    }
   ],
   "source": [
    "!pip show boto3"
   ]
  },
  {
   "cell_type": "markdown",
   "id": "6df9083d",
   "metadata": {},
   "source": [
    "## Checking the version of AWS CLI"
   ]
  },
  {
   "cell_type": "code",
   "execution_count": 30,
   "id": "c1e39acf",
   "metadata": {},
   "outputs": [
    {
     "name": "stdout",
     "output_type": "stream",
     "text": [
      "aws-cli/1.27.22 Python/3.8.12 Linux/5.10.102-99.473.amzn2.x86_64 botocore/1.24.19\r\n"
     ]
    }
   ],
   "source": [
    "!aws --version"
   ]
  },
  {
   "cell_type": "markdown",
   "id": "0121fa09",
   "metadata": {},
   "source": [
    "Now that we know the we have aws CLI installed on this instance, let's use a few commands here. First let's see what what S3 buckets we have:"
   ]
  },
  {
   "cell_type": "code",
   "execution_count": 31,
   "id": "31101b4d",
   "metadata": {},
   "outputs": [
    {
     "name": "stdout",
     "output_type": "stream",
     "text": [
      "2022-12-13 16:43:46 m4-mk\r\n"
     ]
    }
   ],
   "source": [
    "!aws s3 ls"
   ]
  },
  {
   "cell_type": "markdown",
   "id": "555833fe",
   "metadata": {},
   "source": [
    "### Getting data and pushing to S3"
   ]
  },
  {
   "cell_type": "markdown",
   "id": "1fb03f99",
   "metadata": {},
   "source": [
    "Let's start grabbing a file and after changes, we save that in the S3 bucket:"
   ]
  },
  {
   "cell_type": "code",
   "execution_count": 32,
   "id": "b441420a",
   "metadata": {},
   "outputs": [
    {
     "name": "stdout",
     "output_type": "stream",
     "text": [
      "/home/ec2-user/SageMaker\r\n"
     ]
    }
   ],
   "source": [
    "!pwd"
   ]
  },
  {
   "cell_type": "code",
   "execution_count": 33,
   "id": "b02c5540",
   "metadata": {},
   "outputs": [],
   "source": [
    "!mkdir file"
   ]
  },
  {
   "cell_type": "code",
   "execution_count": 34,
   "id": "7913caed",
   "metadata": {},
   "outputs": [
    {
     "name": "stdout",
     "output_type": "stream",
     "text": [
      "total 60\r\n",
      "drwxrwxr-x 2 ec2-user ec2-user  4096 Dec 14 02:44 file\r\n",
      "-rw-rw-r-- 1 ec2-user ec2-user 34179 Dec 14 02:43 first_notebook.ipynb\r\n",
      "drwx------ 2 root     root     16384 Dec 13 20:28 lost+found\r\n",
      "-rw-rw-r-- 1 ec2-user ec2-user    46 Dec 14 02:42 myfile.py\r\n"
     ]
    }
   ],
   "source": [
    "!ls -l"
   ]
  },
  {
   "cell_type": "code",
   "execution_count": 35,
   "id": "f0b24719",
   "metadata": {},
   "outputs": [
    {
     "name": "stdout",
     "output_type": "stream",
     "text": [
      "/home/ec2-user/SageMaker/file\n"
     ]
    }
   ],
   "source": [
    "%cd /home/ec2-user/SageMaker/file/"
   ]
  },
  {
   "cell_type": "code",
   "execution_count": 36,
   "id": "fe63496f",
   "metadata": {},
   "outputs": [
    {
     "name": "stdout",
     "output_type": "stream",
     "text": [
      "/home/ec2-user/SageMaker/file\r\n"
     ]
    }
   ],
   "source": [
    "!pwd"
   ]
  },
  {
   "cell_type": "markdown",
   "id": "dc317248",
   "metadata": {},
   "source": [
    "Download the file called \"experience_and_salary.csv\" from the blackboard and upload it to the \"file\" folder:\n",
    "\n",
    "    "
   ]
  },
  {
   "cell_type": "code",
   "execution_count": 37,
   "id": "ee6c658f",
   "metadata": {},
   "outputs": [
    {
     "name": "stdout",
     "output_type": "stream",
     "text": [
      "experience_and_salary.csv\r\n"
     ]
    }
   ],
   "source": [
    "!ls"
   ]
  },
  {
   "cell_type": "code",
   "execution_count": 38,
   "id": "103251e4",
   "metadata": {},
   "outputs": [
    {
     "name": "stdout",
     "output_type": "stream",
     "text": [
      "/home/ec2-user/SageMaker/file\r\n"
     ]
    }
   ],
   "source": [
    "!pwd"
   ]
  },
  {
   "cell_type": "markdown",
   "id": "24c4c3c9",
   "metadata": {},
   "source": [
    "Now we have a file in this notebook instance. we open that with Pandas:"
   ]
  },
  {
   "cell_type": "code",
   "execution_count": 39,
   "id": "1b7c0002",
   "metadata": {},
   "outputs": [],
   "source": [
    "import pandas as pd"
   ]
  },
  {
   "cell_type": "code",
   "execution_count": 40,
   "id": "a37f6d5f",
   "metadata": {},
   "outputs": [],
   "source": [
    "df_data=pd.read_csv(\"./experience_and_salary.csv\")"
   ]
  },
  {
   "cell_type": "code",
   "execution_count": 41,
   "id": "9e2c4746",
   "metadata": {},
   "outputs": [
    {
     "data": {
      "text/html": [
       "<div>\n",
       "<style scoped>\n",
       "    .dataframe tbody tr th:only-of-type {\n",
       "        vertical-align: middle;\n",
       "    }\n",
       "\n",
       "    .dataframe tbody tr th {\n",
       "        vertical-align: top;\n",
       "    }\n",
       "\n",
       "    .dataframe thead th {\n",
       "        text-align: right;\n",
       "    }\n",
       "</style>\n",
       "<table border=\"1\" class=\"dataframe\">\n",
       "  <thead>\n",
       "    <tr style=\"text-align: right;\">\n",
       "      <th></th>\n",
       "      <th>last_name</th>\n",
       "      <th>management_experience_months</th>\n",
       "      <th>monthly_salary</th>\n",
       "    </tr>\n",
       "  </thead>\n",
       "  <tbody>\n",
       "    <tr>\n",
       "      <th>0</th>\n",
       "      <td>Taylor</td>\n",
       "      <td>65</td>\n",
       "      <td>1630</td>\n",
       "    </tr>\n",
       "    <tr>\n",
       "      <th>1</th>\n",
       "      <td>Wang</td>\n",
       "      <td>61</td>\n",
       "      <td>1330</td>\n",
       "    </tr>\n",
       "    <tr>\n",
       "      <th>2</th>\n",
       "      <td>Brown</td>\n",
       "      <td>38</td>\n",
       "      <td>1290</td>\n",
       "    </tr>\n",
       "    <tr>\n",
       "      <th>3</th>\n",
       "      <td>Harris</td>\n",
       "      <td>71</td>\n",
       "      <td>1480</td>\n",
       "    </tr>\n",
       "    <tr>\n",
       "      <th>4</th>\n",
       "      <td>Jones</td>\n",
       "      <td>94</td>\n",
       "      <td>1590</td>\n",
       "    </tr>\n",
       "    <tr>\n",
       "      <th>5</th>\n",
       "      <td>Garcia</td>\n",
       "      <td>93</td>\n",
       "      <td>1750</td>\n",
       "    </tr>\n",
       "    <tr>\n",
       "      <th>6</th>\n",
       "      <td>Williams</td>\n",
       "      <td>15</td>\n",
       "      <td>1020</td>\n",
       "    </tr>\n",
       "    <tr>\n",
       "      <th>7</th>\n",
       "      <td>Lee</td>\n",
       "      <td>56</td>\n",
       "      <td>1290</td>\n",
       "    </tr>\n",
       "    <tr>\n",
       "      <th>8</th>\n",
       "      <td>White</td>\n",
       "      <td>59</td>\n",
       "      <td>1430</td>\n",
       "    </tr>\n",
       "    <tr>\n",
       "      <th>9</th>\n",
       "      <td>Tan</td>\n",
       "      <td>7</td>\n",
       "      <td>960</td>\n",
       "    </tr>\n",
       "    <tr>\n",
       "      <th>10</th>\n",
       "      <td>Chen</td>\n",
       "      <td>14</td>\n",
       "      <td>1090</td>\n",
       "    </tr>\n",
       "    <tr>\n",
       "      <th>11</th>\n",
       "      <td>Kim</td>\n",
       "      <td>67</td>\n",
       "      <td>1340</td>\n",
       "    </tr>\n",
       "    <tr>\n",
       "      <th>12</th>\n",
       "      <td>Davis</td>\n",
       "      <td>29</td>\n",
       "      <td>1170</td>\n",
       "    </tr>\n",
       "    <tr>\n",
       "      <th>13</th>\n",
       "      <td>James</td>\n",
       "      <td>49</td>\n",
       "      <td>1390</td>\n",
       "    </tr>\n",
       "    <tr>\n",
       "      <th>14</th>\n",
       "      <td>Perez</td>\n",
       "      <td>46</td>\n",
       "      <td>1240</td>\n",
       "    </tr>\n",
       "    <tr>\n",
       "      <th>15</th>\n",
       "      <td>Cruz</td>\n",
       "      <td>73</td>\n",
       "      <td>1390</td>\n",
       "    </tr>\n",
       "    <tr>\n",
       "      <th>16</th>\n",
       "      <td>Smith</td>\n",
       "      <td>19</td>\n",
       "      <td>960</td>\n",
       "    </tr>\n",
       "    <tr>\n",
       "      <th>17</th>\n",
       "      <td>Thompson</td>\n",
       "      <td>22</td>\n",
       "      <td>1040</td>\n",
       "    </tr>\n",
       "    <tr>\n",
       "      <th>18</th>\n",
       "      <td>Joseph</td>\n",
       "      <td>32</td>\n",
       "      <td>1090</td>\n",
       "    </tr>\n",
       "    <tr>\n",
       "      <th>19</th>\n",
       "      <td>Singh</td>\n",
       "      <td>37</td>\n",
       "      <td>1300</td>\n",
       "    </tr>\n",
       "  </tbody>\n",
       "</table>\n",
       "</div>"
      ],
      "text/plain": [
       "   last_name  management_experience_months  monthly_salary\n",
       "0     Taylor                            65            1630\n",
       "1       Wang                            61            1330\n",
       "2      Brown                            38            1290\n",
       "3     Harris                            71            1480\n",
       "4      Jones                            94            1590\n",
       "5     Garcia                            93            1750\n",
       "6   Williams                            15            1020\n",
       "7        Lee                            56            1290\n",
       "8      White                            59            1430\n",
       "9        Tan                             7             960\n",
       "10      Chen                            14            1090\n",
       "11       Kim                            67            1340\n",
       "12     Davis                            29            1170\n",
       "13     James                            49            1390\n",
       "14     Perez                            46            1240\n",
       "15      Cruz                            73            1390\n",
       "16     Smith                            19             960\n",
       "17  Thompson                            22            1040\n",
       "18    Joseph                            32            1090\n",
       "19     Singh                            37            1300"
      ]
     },
     "execution_count": 41,
     "metadata": {},
     "output_type": "execute_result"
    }
   ],
   "source": [
    "df_data"
   ]
  },
  {
   "cell_type": "markdown",
   "id": "1c69b808",
   "metadata": {},
   "source": [
    "Let's visualize the relationship between experience and income:"
   ]
  },
  {
   "cell_type": "code",
   "execution_count": 42,
   "id": "bfe841f8",
   "metadata": {},
   "outputs": [],
   "source": [
    "%matplotlib inline\n",
    "import matplotlib.pyplot as plt"
   ]
  },
  {
   "cell_type": "code",
   "execution_count": 43,
   "id": "5c1c4c4d",
   "metadata": {},
   "outputs": [
    {
     "data": {
      "text/plain": [
       "(0.0, 2400.0)"
      ]
     },
     "execution_count": 43,
     "metadata": {},
     "output_type": "execute_result"
    },
    {
     "data": {
      "image/png": "[encoded data removed]",
      "text/plain": [
       "<Figure size 576x576 with 1 Axes>"
      ]
     },
     "metadata": {
      "needs_background": "light"
     },
     "output_type": "display_data"
    }
   ],
   "source": [
    "plt.rcParams[\"figure.figsize\"] = (8,8) \n",
    "plt.scatter(df_data.management_experience_months, df_data.monthly_salary)\n",
    "plt.xlabel('Management Experience (Months)', fontsize=18) \n",
    "plt.ylabel('Monthly Salary (USD)', fontsize=16) \n",
    "plt.xlim(0, 120)\n",
    "plt.ylim(0, 2400)"
   ]
  },
  {
   "cell_type": "markdown",
   "id": "a64aa2aa",
   "metadata": {},
   "source": [
    "Now let's split this data into the <b>training</b> and <b>test</b> sets. We use sklearn that is installed by default on the SageMaker notebook instance. Let's first check if we have sklearn installed:"
   ]
  },
  {
   "cell_type": "code",
   "execution_count": 44,
   "id": "dca960a7",
   "metadata": {},
   "outputs": [
    {
     "name": "stdout",
     "output_type": "stream",
     "text": [
      "Name: sklearn\r\n",
      "Version: 0.0\r\n",
      "Summary: A set of python modules for machine learning and data mining\r\n",
      "Home-page: https://pypi.python.org/pypi/scikit-learn/\r\n",
      "Author: UNKNOWN\r\n",
      "Author-email: UNKNOWN\r\n",
      "License: \r\n",
      "Location: /home/ec2-user/anaconda3/envs/python3/lib/python3.8/site-packages\r\n",
      "Requires: scikit-learn\r\n",
      "Required-by: smclarify\r\n"
     ]
    }
   ],
   "source": [
    "!pip show sklearn"
   ]
  },
  {
   "cell_type": "markdown",
   "id": "36b6c41c",
   "metadata": {},
   "source": [
    "We would like the x be the <b>\"managamenet experience\"</b> column and the y be the <b>\"salary\"</b>. "
   ]
  },
  {
   "cell_type": "code",
   "execution_count": 45,
   "id": "3eeb5d88",
   "metadata": {},
   "outputs": [],
   "source": [
    "from sklearn.model_selection import train_test_split\n",
    "\n",
    "X = df_data['management_experience_months'].values \n",
    "y = df_data['monthly_salary'].values\n",
    "X_train, X_test, y_train, y_test = train_test_split(X, y, test_size=0.3, random_state=0)"
   ]
  },
  {
   "cell_type": "code",
   "execution_count": 46,
   "id": "1bfeddb4",
   "metadata": {},
   "outputs": [
    {
     "data": {
      "text/plain": [
       "(array([15, 49, 94, 38, 93, 46,  7, 56, 19, 67, 71, 65, 73, 29]),\n",
       " array([1020, 1390, 1590, 1290, 1750, 1240,  960, 1290,  960, 1340, 1480,\n",
       "        1630, 1390, 1170]))"
      ]
     },
     "execution_count": 46,
     "metadata": {},
     "output_type": "execute_result"
    }
   ],
   "source": [
    "X_train, y_train"
   ]
  },
  {
   "cell_type": "code",
   "execution_count": 47,
   "id": "71932dfd",
   "metadata": {},
   "outputs": [
    {
     "data": {
      "text/plain": [
       "(array([32, 61, 37, 59, 14, 22]), array([1090, 1330, 1300, 1430, 1090, 1040]))"
      ]
     },
     "execution_count": 47,
     "metadata": {},
     "output_type": "execute_result"
    }
   ],
   "source": [
    "X_test,y_test "
   ]
  },
  {
   "cell_type": "markdown",
   "id": "a6695581",
   "metadata": {},
   "source": [
    "In some cases, you may want to split the data set to <b>training, validation and test</b> data set. The \"validation\" data set is used to evaluate the model while it is <b> being trained</b> and while <b>tuning the model hyperparameters</b>. The \"test\" data set is used to evaluate the model after the training is completed by the \"training\" and \"validation\" data set."
   ]
  },
  {
   "cell_type": "markdown",
   "id": "afbc3fa0",
   "metadata": {},
   "source": [
    "Now if we want to assemble the training data set, we use Pandas to create it by the columns we have created above:"
   ]
  },
  {
   "cell_type": "code",
   "execution_count": 48,
   "id": "e63dd9e7",
   "metadata": {},
   "outputs": [
    {
     "data": {
      "text/html": [
       "<div>\n",
       "<style scoped>\n",
       "    .dataframe tbody tr th:only-of-type {\n",
       "        vertical-align: middle;\n",
       "    }\n",
       "\n",
       "    .dataframe tbody tr th {\n",
       "        vertical-align: top;\n",
       "    }\n",
       "\n",
       "    .dataframe thead th {\n",
       "        text-align: right;\n",
       "    }\n",
       "</style>\n",
       "<table border=\"1\" class=\"dataframe\">\n",
       "  <thead>\n",
       "    <tr style=\"text-align: right;\">\n",
       "      <th></th>\n",
       "      <th>monthly_salary</th>\n",
       "      <th>management_experience_months</th>\n",
       "    </tr>\n",
       "  </thead>\n",
       "  <tbody>\n",
       "    <tr>\n",
       "      <th>0</th>\n",
       "      <td>1020</td>\n",
       "      <td>15</td>\n",
       "    </tr>\n",
       "    <tr>\n",
       "      <th>1</th>\n",
       "      <td>1390</td>\n",
       "      <td>49</td>\n",
       "    </tr>\n",
       "    <tr>\n",
       "      <th>2</th>\n",
       "      <td>1590</td>\n",
       "      <td>94</td>\n",
       "    </tr>\n",
       "    <tr>\n",
       "      <th>3</th>\n",
       "      <td>1290</td>\n",
       "      <td>38</td>\n",
       "    </tr>\n",
       "    <tr>\n",
       "      <th>4</th>\n",
       "      <td>1750</td>\n",
       "      <td>93</td>\n",
       "    </tr>\n",
       "    <tr>\n",
       "      <th>5</th>\n",
       "      <td>1240</td>\n",
       "      <td>46</td>\n",
       "    </tr>\n",
       "    <tr>\n",
       "      <th>6</th>\n",
       "      <td>960</td>\n",
       "      <td>7</td>\n",
       "    </tr>\n",
       "    <tr>\n",
       "      <th>7</th>\n",
       "      <td>1290</td>\n",
       "      <td>56</td>\n",
       "    </tr>\n",
       "    <tr>\n",
       "      <th>8</th>\n",
       "      <td>960</td>\n",
       "      <td>19</td>\n",
       "    </tr>\n",
       "    <tr>\n",
       "      <th>9</th>\n",
       "      <td>1340</td>\n",
       "      <td>67</td>\n",
       "    </tr>\n",
       "    <tr>\n",
       "      <th>10</th>\n",
       "      <td>1480</td>\n",
       "      <td>71</td>\n",
       "    </tr>\n",
       "    <tr>\n",
       "      <th>11</th>\n",
       "      <td>1630</td>\n",
       "      <td>65</td>\n",
       "    </tr>\n",
       "    <tr>\n",
       "      <th>12</th>\n",
       "      <td>1390</td>\n",
       "      <td>73</td>\n",
       "    </tr>\n",
       "    <tr>\n",
       "      <th>13</th>\n",
       "      <td>1170</td>\n",
       "      <td>29</td>\n",
       "    </tr>\n",
       "  </tbody>\n",
       "</table>\n",
       "</div>"
      ],
      "text/plain": [
       "    monthly_salary  management_experience_months\n",
       "0             1020                            15\n",
       "1             1390                            49\n",
       "2             1590                            94\n",
       "3             1290                            38\n",
       "4             1750                            93\n",
       "5             1240                            46\n",
       "6              960                             7\n",
       "7             1290                            56\n",
       "8              960                            19\n",
       "9             1340                            67\n",
       "10            1480                            71\n",
       "11            1630                            65\n",
       "12            1390                            73\n",
       "13            1170                            29"
      ]
     },
     "execution_count": 48,
     "metadata": {},
     "output_type": "execute_result"
    }
   ],
   "source": [
    "df_training_data = pd.DataFrame({ 'monthly_salary': y_train, 'management_experience_months': X_train})\n",
    "df_training_data"
   ]
  },
  {
   "cell_type": "markdown",
   "id": "f8b61edb",
   "metadata": {},
   "source": [
    "The df_training_data is in the memory of this instance. We save that to the disk now:"
   ]
  },
  {
   "cell_type": "code",
   "execution_count": 49,
   "id": "4592a3c2",
   "metadata": {},
   "outputs": [],
   "source": [
    "df_training_data.to_csv('./training_data.csv', header=False, index=False)"
   ]
  },
  {
   "cell_type": "code",
   "execution_count": 50,
   "id": "191a8326",
   "metadata": {},
   "outputs": [
    {
     "name": "stdout",
     "output_type": "stream",
     "text": [
      "experience_and_salary.csv  training_data.csv\r\n"
     ]
    }
   ],
   "source": [
    "!ls"
   ]
  },
  {
   "cell_type": "markdown",
   "id": "a5ff7c8c",
   "metadata": {},
   "source": [
    "Now we can push this file to S3. First we assign a variable to an <b>existing</b> S3 bucket name with a folder called \"sagemaker\" inside it. Please change the bucket name to some other unique value:"
   ]
  },
  {
   "cell_type": "code",
   "execution_count": 51,
   "id": "d7e36db2",
   "metadata": {},
   "outputs": [],
   "source": [
    "s3_bucket=\"mk-bucket-sagemaker\"\n",
    "prefix=\"sagemaker\""
   ]
  },
  {
   "cell_type": "markdown",
   "id": "b04f23d2",
   "metadata": {},
   "source": [
    "Now we use aws cli to push the training code to the above bucket name and sagemaker folder and inside the \"input\" folder. Please consider that we did not create the \"input\" folder, it is created on the fly here:"
   ]
  },
  {
   "cell_type": "code",
   "execution_count": 52,
   "id": "ae2620a4",
   "metadata": {},
   "outputs": [
    {
     "name": "stdout",
     "output_type": "stream",
     "text": [
      "upload failed: ./training_data.csv to s3://mk-bucket-sagemaker/sagemaker/input/training_data.csv An error occurred (NoSuchBucket) when calling the PutObject operation: The specified bucket does not exist\r\n"
     ]
    }
   ],
   "source": [
    "!aws s3 cp ./training_data.csv s3://{s3_bucket}/{prefix}/input/training_data.csv"
   ]
  },
  {
   "cell_type": "markdown",
   "id": "716ac4ba",
   "metadata": {},
   "source": [
    "<b> DIY:</b> You create a test data set and upload it to S3 bucket"
   ]
  }
 ],
 "metadata": {
  "kernelspec": {
   "display_name": "conda_python3",
   "language": "python",
   "name": "conda_python3"
  },
  "language_info": {
   "codemirror_mode": {
    "name": "ipython",
    "version": 3
   },
   "file_extension": ".py",
   "mimetype": "text/x-python",
   "name": "python",
   "nbconvert_exporter": "python",
   "pygments_lexer": "ipython3",
   "version": "3.8.12"
  }
 },
 "nbformat": 4,
 "nbformat_minor": 5
}
