{
 "cells": [
  {
   "cell_type": "markdown",
   "id": "24e238e7",
   "metadata": {},
   "source": [
    "# SageMaker Serverless Inference "
   ]
  },
  {
   "cell_type": "markdown",
   "id": "78a9e718",
   "metadata": {},
   "source": [
    "Amazon SageMaker Serverless Inference is a purpose-built inference option that makes it easy to deploy and scale ML models. \n",
    "\n",
    "Serverless Inference is ideal for workloads which have **idle periods** between traffic peaks and can tolerate **cold starts**. Serverless endpoints also automatically launch compute resources and scale them in and out depending on traffic, eliminating the need to choose instance types or manage scaling policies. THis is ideal for scenarios that we have constrains in cost and at the same time we have no idea about the type of instance we need.\n",
    "\n",
    "For this notebook we'll be working with the **SageMaker XGBoost Algorithm** to train a model and then deploy a serverless endpoint. We will be using the public S3 Abalone regression dataset for this example."
   ]
  },
  {
   "cell_type": "code",
   "execution_count": 1,
   "id": "d7dc6f88",
   "metadata": {},
   "outputs": [
    {
     "name": "stdout",
     "output_type": "stream",
     "text": [
      "Looking in indexes: https://pypi.org/simple, https://pip.repos.neuron.amazonaws.com\n",
      "Requirement already satisfied: sagemaker in /home/ec2-user/anaconda3/envs/python3/lib/python3.10/site-packages (2.132.0)\n",
      "Collecting sagemaker\n",
      "  Downloading sagemaker-2.140.1.tar.gz (684 kB)\n",
      "\u001b[2K     \u001b[90m━━━━━━━━━━━━━━━━━━━━━━━━━━━━━━━━━━━━━━━\u001b[0m \u001b[32m684.5/684.5 kB\u001b[0m \u001b[31m4.0 MB/s\u001b[0m eta \u001b[36m0:00:00\u001b[0ma \u001b[36m0:00:01\u001b[0m\n",
      "\u001b[?25h  Preparing metadata (setup.py) ... \u001b[?25ldone\n",
      "\u001b[?25hRequirement already satisfied: botocore in /home/ec2-user/anaconda3/envs/python3/lib/python3.10/site-packages (1.29.71)\n",
      "Collecting botocore\n",
      "  Downloading botocore-1.29.97-py3-none-any.whl (10.5 MB)\n",
      "\u001b[2K     \u001b[90m━━━━━━━━━━━━━━━━━━━━━━━━━━━━━━━━━━━━━━━━\u001b[0m \u001b[32m10.5/10.5 MB\u001b[0m \u001b[31m54.7 MB/s\u001b[0m eta \u001b[36m0:00:00\u001b[0m00:01\u001b[0m0:01\u001b[0m\n",
      "\u001b[?25hRequirement already satisfied: boto3 in /home/ec2-user/anaconda3/envs/python3/lib/python3.10/site-packages (1.26.71)\n",
      "Collecting boto3\n",
      "  Downloading boto3-1.26.97-py3-none-any.whl (135 kB)\n",
      "\u001b[2K     \u001b[90m━━━━━━━━━━━━━━━━━━━━━━━━━━━━━━━━━━━━━━\u001b[0m \u001b[32m135.5/135.5 kB\u001b[0m \u001b[31m30.8 MB/s\u001b[0m eta \u001b[36m0:00:00\u001b[0m\n",
      "\u001b[?25hRequirement already satisfied: awscli in /home/ec2-user/anaconda3/envs/python3/lib/python3.10/site-packages (1.27.71)\n",
      "Collecting awscli\n",
      "  Downloading awscli-1.27.97-py3-none-any.whl (4.0 MB)\n",
      "\u001b[2K     \u001b[90m━━━━━━━━━━━━━━━━━━━━━━━━━━━━━━━━━━━━━━━━\u001b[0m \u001b[32m4.0/4.0 MB\u001b[0m \u001b[31m70.3 MB/s\u001b[0m eta \u001b[36m0:00:00\u001b[0mta \u001b[36m0:00:01\u001b[0m\n",
      "\u001b[?25hRequirement already satisfied: attrs<23,>=20.3.0 in /home/ec2-user/anaconda3/envs/python3/lib/python3.10/site-packages (from sagemaker) (22.2.0)\n",
      "Requirement already satisfied: google-pasta in /home/ec2-user/anaconda3/envs/python3/lib/python3.10/site-packages (from sagemaker) (0.2.0)\n",
      "Requirement already satisfied: numpy<2.0,>=1.9.0 in /home/ec2-user/anaconda3/envs/python3/lib/python3.10/site-packages (from sagemaker) (1.22.3)\n",
      "Requirement already satisfied: protobuf<4.0,>=3.1 in /home/ec2-user/anaconda3/envs/python3/lib/python3.10/site-packages (from sagemaker) (3.20.3)\n",
      "Requirement already satisfied: protobuf3-to-dict<1.0,>=0.1.5 in /home/ec2-user/anaconda3/envs/python3/lib/python3.10/site-packages (from sagemaker) (0.1.5)\n",
      "Requirement already satisfied: smdebug_rulesconfig==1.0.1 in /home/ec2-user/anaconda3/envs/python3/lib/python3.10/site-packages (from sagemaker) (1.0.1)\n",
      "Requirement already satisfied: importlib-metadata<5.0,>=1.4.0 in /home/ec2-user/anaconda3/envs/python3/lib/python3.10/site-packages (from sagemaker) (4.13.0)\n",
      "Requirement already satisfied: packaging>=20.0 in /home/ec2-user/anaconda3/envs/python3/lib/python3.10/site-packages (from sagemaker) (21.3)\n",
      "Requirement already satisfied: pandas in /home/ec2-user/anaconda3/envs/python3/lib/python3.10/site-packages (from sagemaker) (1.5.2)\n",
      "Requirement already satisfied: pathos in /home/ec2-user/anaconda3/envs/python3/lib/python3.10/site-packages (from sagemaker) (0.3.0)\n",
      "Requirement already satisfied: schema in /home/ec2-user/anaconda3/envs/python3/lib/python3.10/site-packages (from sagemaker) (0.7.5)\n",
      "Requirement already satisfied: jmespath<2.0.0,>=0.7.1 in /home/ec2-user/anaconda3/envs/python3/lib/python3.10/site-packages (from botocore) (1.0.1)\n",
      "Requirement already satisfied: urllib3<1.27,>=1.25.4 in /home/ec2-user/anaconda3/envs/python3/lib/python3.10/site-packages (from botocore) (1.26.8)\n",
      "Requirement already satisfied: python-dateutil<3.0.0,>=2.1 in /home/ec2-user/anaconda3/envs/python3/lib/python3.10/site-packages (from botocore) (2.8.2)\n",
      "Requirement already satisfied: s3transfer<0.7.0,>=0.6.0 in /home/ec2-user/anaconda3/envs/python3/lib/python3.10/site-packages (from boto3) (0.6.0)\n",
      "Requirement already satisfied: rsa<4.8,>=3.1.2 in /home/ec2-user/anaconda3/envs/python3/lib/python3.10/site-packages (from awscli) (4.7.2)\n",
      "Requirement already satisfied: PyYAML<5.5,>=3.10 in /home/ec2-user/anaconda3/envs/python3/lib/python3.10/site-packages (from awscli) (5.4.1)\n",
      "Requirement already satisfied: colorama<0.4.5,>=0.2.5 in /home/ec2-user/anaconda3/envs/python3/lib/python3.10/site-packages (from awscli) (0.4.4)\n",
      "Requirement already satisfied: docutils<0.17,>=0.10 in /home/ec2-user/anaconda3/envs/python3/lib/python3.10/site-packages (from awscli) (0.16)\n",
      "Requirement already satisfied: zipp>=0.5 in /home/ec2-user/anaconda3/envs/python3/lib/python3.10/site-packages (from importlib-metadata<5.0,>=1.4.0->sagemaker) (3.11.0)\n",
      "Requirement already satisfied: pyparsing!=3.0.5,>=2.0.2 in /home/ec2-user/anaconda3/envs/python3/lib/python3.10/site-packages (from packaging>=20.0->sagemaker) (3.0.9)\n",
      "Requirement already satisfied: six in /home/ec2-user/anaconda3/envs/python3/lib/python3.10/site-packages (from protobuf3-to-dict<1.0,>=0.1.5->sagemaker) (1.16.0)\n",
      "Requirement already satisfied: pyasn1>=0.1.3 in /home/ec2-user/anaconda3/envs/python3/lib/python3.10/site-packages (from rsa<4.8,>=3.1.2->awscli) (0.4.8)\n",
      "Requirement already satisfied: pytz>=2020.1 in /home/ec2-user/anaconda3/envs/python3/lib/python3.10/site-packages (from pandas->sagemaker) (2022.7)\n",
      "Requirement already satisfied: ppft>=1.7.6.6 in /home/ec2-user/anaconda3/envs/python3/lib/python3.10/site-packages (from pathos->sagemaker) (1.7.6.6)\n",
      "Requirement already satisfied: multiprocess>=0.70.14 in /home/ec2-user/anaconda3/envs/python3/lib/python3.10/site-packages (from pathos->sagemaker) (0.70.14)\n",
      "Requirement already satisfied: dill>=0.3.6 in /home/ec2-user/anaconda3/envs/python3/lib/python3.10/site-packages (from pathos->sagemaker) (0.3.6)\n",
      "Requirement already satisfied: pox>=0.3.2 in /home/ec2-user/anaconda3/envs/python3/lib/python3.10/site-packages (from pathos->sagemaker) (0.3.2)\n",
      "Requirement already satisfied: contextlib2>=0.5.5 in /home/ec2-user/anaconda3/envs/python3/lib/python3.10/site-packages (from schema->sagemaker) (21.6.0)\n",
      "Building wheels for collected packages: sagemaker\n",
      "  Building wheel for sagemaker (setup.py) ... \u001b[?25ldone\n",
      "\u001b[?25h  Created wheel for sagemaker: filename=sagemaker-2.140.1-py2.py3-none-any.whl size=925381 sha256=ba7570ac2d4f8590511aca2fc6ba94c9659e6c2fc40b9d23a8f4bfe19669641f\n",
      "  Stored in directory: /home/ec2-user/.cache/pip/wheels/07/c7/c3/740c46cd3408fdc0f9439aa5cff410e6ad3e1bc298dcf9f9dd\n",
      "Successfully built sagemaker\n",
      "Installing collected packages: botocore, boto3, awscli, sagemaker\n",
      "  Attempting uninstall: botocore\n",
      "    Found existing installation: botocore 1.29.71\n",
      "    Uninstalling botocore-1.29.71:\n",
      "      Successfully uninstalled botocore-1.29.71\n",
      "  Attempting uninstall: boto3\n",
      "    Found existing installation: boto3 1.26.71\n",
      "    Uninstalling boto3-1.26.71:\n",
      "      Successfully uninstalled boto3-1.26.71\n",
      "  Attempting uninstall: awscli\n",
      "    Found existing installation: awscli 1.27.71\n",
      "    Uninstalling awscli-1.27.71:\n",
      "      Successfully uninstalled awscli-1.27.71\n",
      "  Attempting uninstall: sagemaker\n",
      "    Found existing installation: sagemaker 2.132.0\n",
      "    Uninstalling sagemaker-2.132.0:\n",
      "      Successfully uninstalled sagemaker-2.132.0\n",
      "Successfully installed awscli-1.27.97 boto3-1.26.97 botocore-1.29.97 sagemaker-2.140.1\n"
     ]
    }
   ],
   "source": [
    "! pip install sagemaker botocore boto3 awscli --upgrade"
   ]
  },
  {
   "cell_type": "code",
   "execution_count": 2,
   "id": "9b79ce5f",
   "metadata": {},
   "outputs": [],
   "source": [
    "# Setup clients\n",
    "import boto3\n",
    "\n",
    "client = boto3.client(service_name=\"sagemaker\")\n",
    "runtime = boto3.client(service_name=\"sagemaker-runtime\")"
   ]
  },
  {
   "cell_type": "markdown",
   "id": "76cfd4b6",
   "metadata": {},
   "source": [
    "To begin, we import the AWS SDK for Python (Boto3) and set up our environment, including an IAM role and an S3 bucket to store our data."
   ]
  },
  {
   "cell_type": "code",
   "execution_count": 9,
   "id": "49967315",
   "metadata": {},
   "outputs": [
    {
     "name": "stdout",
     "output_type": "stream",
     "text": [
      "ca-central-1\n",
      "arn:aws:iam::224670572127:role/fast-ai-academic-12-Student-Azure\n"
     ]
    }
   ],
   "source": [
    "import boto3\n",
    "import sagemaker\n",
    "from sagemaker.estimator import Estimator\n",
    "\n",
    "boto_session = boto3.session.Session()\n",
    "region = boto_session.region_name\n",
    "print(region)\n",
    "\n",
    "sagemaker_session = sagemaker.Session()\n",
    "base_job_prefix = \"xgboost-example\"\n",
    "role = sagemaker.get_execution_role()\n",
    "print(role)\n",
    "\n",
    "default_bucket = 'day-07-nr'\n",
    "s3_prefix = base_job_prefix\n",
    "\n",
    "training_instance_type = \"ml.m5.xlarge\""
   ]
  },
  {
   "cell_type": "markdown",
   "id": "73e5547a",
   "metadata": {},
   "source": [
    "Retrieve the Abalone dataset from a publicly hosted S3 bucket."
   ]
  },
  {
   "cell_type": "code",
   "execution_count": 10,
   "id": "25c56a42",
   "metadata": {},
   "outputs": [
    {
     "name": "stdout",
     "output_type": "stream",
     "text": [
      "  % Total    % Received % Xferd  Average Speed   Time    Time     Time  Current\n",
      "                                 Dload  Upload   Total   Spent    Left  Speed\n",
      "100  131k  100  131k    0     0   333k      0 --:--:-- --:--:-- --:--:--  333k\n"
     ]
    }
   ],
   "source": [
    "# retrieve data\n",
    "! curl https://sagemaker-sample-files.s3.amazonaws.com/datasets/tabular/uci_abalone/train_csv/abalone_dataset1_train.csv > abalone_dataset1_train.csv"
   ]
  },
  {
   "cell_type": "markdown",
   "id": "fea71c3a",
   "metadata": {},
   "source": [
    "Upload the Abalone dataset to the default S3 bucket."
   ]
  },
  {
   "cell_type": "code",
   "execution_count": 11,
   "id": "d2f9897c",
   "metadata": {},
   "outputs": [
    {
     "name": "stdout",
     "output_type": "stream",
     "text": [
      "upload: ./abalone_dataset1_train.csv to s3://day-07-nr/xgboost-regression/train.csv\r\n"
     ]
    }
   ],
   "source": [
    "# upload data to S3\n",
    "!aws s3 cp abalone_dataset1_train.csv s3://{default_bucket}/xgboost-regression/train.csv"
   ]
  },
  {
   "cell_type": "markdown",
   "id": "a8524c6c",
   "metadata": {},
   "source": [
    "### Model Training"
   ]
  },
  {
   "cell_type": "markdown",
   "id": "6ae970d3",
   "metadata": {},
   "source": [
    "Now, we train an ML model using the XGBoost Algorithm. In this example, we use a SageMaker-provided XGBoost container image and configure an estimator to train our model."
   ]
  },
  {
   "cell_type": "code",
   "execution_count": 12,
   "id": "f13511de",
   "metadata": {},
   "outputs": [],
   "source": [
    "from sagemaker.inputs import TrainingInput\n",
    "\n",
    "training_path = f\"s3://{default_bucket}/xgboost-regression/train.csv\"\n",
    "train_input = TrainingInput(training_path, content_type=\"text/csv\")"
   ]
  },
  {
   "cell_type": "code",
   "execution_count": 13,
   "id": "4a7556c2",
   "metadata": {},
   "outputs": [],
   "source": [
    "model_path = f\"s3://{default_bucket}/{s3_prefix}/xgb_model\"\n",
    "\n",
    "# retrieve xgboost image\n",
    "image_uri = sagemaker.image_uris.retrieve(\n",
    "    framework=\"xgboost\",\n",
    "    region=region,\n",
    "    version=\"1.0-1\",\n",
    "    py_version=\"py3\",\n",
    "    instance_type=training_instance_type,\n",
    ")\n",
    "\n",
    "# Configure Training Estimator\n",
    "xgb_train = Estimator(\n",
    "    image_uri=image_uri,\n",
    "    instance_type=training_instance_type,\n",
    "    instance_count=1,\n",
    "    output_path=model_path,\n",
    "    sagemaker_session=sagemaker_session,\n",
    "    role=role,\n",
    ")\n",
    "\n",
    "# Set Hyperparameters\n",
    "xgb_train.set_hyperparameters(\n",
    "    objective=\"reg:linear\",\n",
    "    num_round=50,\n",
    "    max_depth=5,\n",
    "    eta=0.2,\n",
    "    gamma=4,\n",
    "    min_child_weight=6,\n",
    "    subsample=0.7,\n",
    "    silent=0,\n",
    ")"
   ]
  },
  {
   "cell_type": "markdown",
   "id": "ca0cdf42",
   "metadata": {},
   "source": [
    "Train the model on the Abalone dataset."
   ]
  },
  {
   "cell_type": "code",
   "execution_count": 14,
   "id": "0700ee2f",
   "metadata": {},
   "outputs": [
    {
     "name": "stderr",
     "output_type": "stream",
     "text": [
      "INFO:sagemaker:Creating training-job with name: sagemaker-xgboost-2023-03-22-23-32-02-317\n"
     ]
    },
    {
     "name": "stdout",
     "output_type": "stream",
     "text": [
      "2023-03-22 23:32:05 Starting - Starting the training job...\n",
      "2023-03-22 23:32:19 Starting - Preparing the instances for training...\n",
      "2023-03-22 23:32:56 Downloading - Downloading input data...\n",
      "2023-03-22 23:33:31 Training - Downloading the training image...\n",
      "2023-03-22 23:34:13 Uploading - Uploading generated training model\n",
      "2023-03-22 23:34:13 Completed - Training job completed\n",
      "\u001b[34m[2023-03-22 23:33:58.050 ip-10-0-99-102.ca-central-1.compute.internal:7 INFO utils.py:27] RULE_JOB_STOP_SIGNAL_FILENAME: None\u001b[0m\n",
      "\u001b[34mINFO:sagemaker-containers:Imported framework sagemaker_xgboost_container.training\u001b[0m\n",
      "\u001b[34mINFO:sagemaker-containers:Failed to parse hyperparameter objective value reg:linear to Json.\u001b[0m\n",
      "\u001b[34mReturning the value itself\u001b[0m\n",
      "\u001b[34mINFO:sagemaker-containers:No GPUs detected (normal if no gpus installed)\u001b[0m\n",
      "\u001b[34mINFO:sagemaker_xgboost_container.training:Running XGBoost Sagemaker in algorithm mode\u001b[0m\n",
      "\u001b[34mINFO:root:Determined delimiter of CSV input is ','\u001b[0m\n",
      "\u001b[34mINFO:root:Determined delimiter of CSV input is ','\u001b[0m\n",
      "\u001b[34mINFO:root:Single node training.\u001b[0m\n",
      "\u001b[34m[23:33:58] 2923x8 matrix with 23384 entries loaded from /opt/ml/input/data/train?format=csv&label_column=0&delimiter=,\u001b[0m\n",
      "\u001b[34m[2023-03-22 23:33:58.112 ip-10-0-99-102.ca-central-1.compute.internal:7 INFO json_config.py:91] Creating hook from json_config at /opt/ml/input/config/debughookconfig.json.\u001b[0m\n",
      "\u001b[34m[2023-03-22 23:33:58.113 ip-10-0-99-102.ca-central-1.compute.internal:7 INFO hook.py:201] tensorboard_dir has not been set for the hook. SMDebug will not be exporting tensorboard summaries.\u001b[0m\n",
      "\u001b[34m[2023-03-22 23:33:58.113 ip-10-0-99-102.ca-central-1.compute.internal:7 INFO profiler_config_parser.py:102] User has disabled profiler.\u001b[0m\n",
      "\u001b[34m[2023-03-22 23:33:58.114 ip-10-0-99-102.ca-central-1.compute.internal:7 INFO hook.py:255] Saving to /opt/ml/output/tensors\u001b[0m\n",
      "\u001b[34m[2023-03-22 23:33:58.114 ip-10-0-99-102.ca-central-1.compute.internal:7 INFO state_store.py:77] The checkpoint config file /opt/ml/input/config/checkpointconfig.json does not exist.\u001b[0m\n",
      "\u001b[34mINFO:root:Debug hook created from config\u001b[0m\n",
      "\u001b[34mINFO:root:Train matrix has 2923 rows\u001b[0m\n",
      "\u001b[34m[23:33:58] WARNING: /workspace/src/objective/regression_obj.cu:167: reg:linear is now deprecated in favor of reg:squarederror.\u001b[0m\n",
      "\u001b[34m[23:33:58] WARNING: /workspace/src/learner.cc:328: \u001b[0m\n",
      "\u001b[34mParameters: { num_round, silent } might not be used.\n",
      "  This may not be accurate due to some parameters are only used in language bindings but\n",
      "  passed down to XGBoost core.  Or some parameters are not used but slip through this\n",
      "  verification. Please open an issue if you find above cases.\u001b[0m\n",
      "\u001b[34m[0]#011train-rmse:8.09123\u001b[0m\n",
      "\u001b[34m[2023-03-22 23:33:58.209 ip-10-0-99-102.ca-central-1.compute.internal:7 INFO hook.py:423] Monitoring the collections: metrics\u001b[0m\n",
      "\u001b[34m[2023-03-22 23:33:58.211 ip-10-0-99-102.ca-central-1.compute.internal:7 INFO hook.py:486] Hook is writing from the hook with pid: 7\u001b[0m\n",
      "\u001b[34m[1]#011train-rmse:6.61298\u001b[0m\n",
      "\u001b[34m[2]#011train-rmse:5.45157\u001b[0m\n",
      "\u001b[34m[3]#011train-rmse:4.54038\u001b[0m\n",
      "\u001b[34m[4]#011train-rmse:3.84707\u001b[0m\n",
      "\u001b[34m[5]#011train-rmse:3.31465\u001b[0m\n",
      "\u001b[34m[6]#011train-rmse:2.91636\u001b[0m\n",
      "\u001b[34m[7]#011train-rmse:2.62415\u001b[0m\n",
      "\u001b[34m[8]#011train-rmse:2.40885\u001b[0m\n",
      "\u001b[34m[9]#011train-rmse:2.24929\u001b[0m\n",
      "\u001b[34m[10]#011train-rmse:2.13106\u001b[0m\n",
      "\u001b[34m[11]#011train-rmse:2.04974\u001b[0m\n",
      "\u001b[34m[12]#011train-rmse:1.98240\u001b[0m\n",
      "\u001b[34m[13]#011train-rmse:1.93888\u001b[0m\n",
      "\u001b[34m[14]#011train-rmse:1.89701\u001b[0m\n",
      "\u001b[34m[15]#011train-rmse:1.87329\u001b[0m\n",
      "\u001b[34m[16]#011train-rmse:1.85216\u001b[0m\n",
      "\u001b[34m[17]#011train-rmse:1.82408\u001b[0m\n",
      "\u001b[34m[18]#011train-rmse:1.81372\u001b[0m\n",
      "\u001b[34m[19]#011train-rmse:1.80362\u001b[0m\n",
      "\u001b[34m[20]#011train-rmse:1.78164\u001b[0m\n",
      "\u001b[34m[21]#011train-rmse:1.77341\u001b[0m\n",
      "\u001b[34m[22]#011train-rmse:1.76766\u001b[0m\n",
      "\u001b[34m[23]#011train-rmse:1.75940\u001b[0m\n",
      "\u001b[34m[24]#011train-rmse:1.74632\u001b[0m\n",
      "\u001b[34m[25]#011train-rmse:1.74385\u001b[0m\n",
      "\u001b[34m[26]#011train-rmse:1.73876\u001b[0m\n",
      "\u001b[34m[27]#011train-rmse:1.73410\u001b[0m\n",
      "\u001b[34m[28]#011train-rmse:1.72847\u001b[0m\n",
      "\u001b[34m[29]#011train-rmse:1.72384\u001b[0m\n",
      "\u001b[34m[30]#011train-rmse:1.71492\u001b[0m\n",
      "\u001b[34m[31]#011train-rmse:1.69789\u001b[0m\n",
      "\u001b[34m[32]#011train-rmse:1.69073\u001b[0m\n",
      "\u001b[34m[33]#011train-rmse:1.68621\u001b[0m\n",
      "\u001b[34m[34]#011train-rmse:1.67960\u001b[0m\n",
      "\u001b[34m[35]#011train-rmse:1.67194\u001b[0m\n",
      "\u001b[34m[36]#011train-rmse:1.65883\u001b[0m\n",
      "\u001b[34m[37]#011train-rmse:1.65463\u001b[0m\n",
      "\u001b[34m[38]#011train-rmse:1.65199\u001b[0m\n",
      "\u001b[34m[39]#011train-rmse:1.63903\u001b[0m\n",
      "\u001b[34m[40]#011train-rmse:1.63353\u001b[0m\n",
      "\u001b[34m[41]#011train-rmse:1.62607\u001b[0m\n",
      "\u001b[34m[42]#011train-rmse:1.61662\u001b[0m\n",
      "\u001b[34m[43]#011train-rmse:1.60241\u001b[0m\n",
      "\u001b[34m[44]#011train-rmse:1.59173\u001b[0m\n",
      "\u001b[34m[45]#011train-rmse:1.58875\u001b[0m\n",
      "\u001b[34m[46]#011train-rmse:1.57816\u001b[0m\n",
      "\u001b[34m[47]#011train-rmse:1.56941\u001b[0m\n",
      "\u001b[34m[48]#011train-rmse:1.56063\u001b[0m\n",
      "\u001b[34m[49]#011train-rmse:1.55822\u001b[0m\n",
      "Training seconds: 77\n",
      "Billable seconds: 77\n"
     ]
    }
   ],
   "source": [
    "# Fit model\n",
    "xgb_train.fit({\"train\": train_input})"
   ]
  },
  {
   "cell_type": "markdown",
   "id": "a563b2df",
   "metadata": {},
   "source": [
    "### Deployment"
   ]
  },
  {
   "cell_type": "markdown",
   "id": "e17cafcc",
   "metadata": {},
   "source": [
    "After training the model, retrieve the model artifacts so that we can deploy the model to an endpoint."
   ]
  },
  {
   "cell_type": "code",
   "execution_count": 15,
   "id": "c7358d8b",
   "metadata": {},
   "outputs": [
    {
     "data": {
      "text/plain": [
       "'s3://day-07-nr/xgboost-example/xgb_model/sagemaker-xgboost-2023-03-22-23-32-02-317/output/model.tar.gz'"
      ]
     },
     "execution_count": 15,
     "metadata": {},
     "output_type": "execute_result"
    }
   ],
   "source": [
    "# Retrieve model data from training job\n",
    "model_artifacts = xgb_train.model_data\n",
    "model_artifacts"
   ]
  },
  {
   "cell_type": "markdown",
   "id": "b8cf57ff",
   "metadata": {},
   "source": [
    "### Model Creation"
   ]
  },
  {
   "cell_type": "markdown",
   "id": "7fed07f6",
   "metadata": {},
   "source": [
    "Create a model by providing your model artifacts, the container image URI, environment variables for the container (if applicable), a model name, and the SageMaker IAM role."
   ]
  },
  {
   "cell_type": "code",
   "execution_count": 16,
   "id": "c4a70143",
   "metadata": {},
   "outputs": [
    {
     "name": "stdout",
     "output_type": "stream",
     "text": [
      "Model name: xgboost-serverless2023-03-22-23-34-46\n",
      "Model Arn: arn:aws:sagemaker:ca-central-1:224670572127:model/xgboost-serverless2023-03-22-23-34-46\n"
     ]
    }
   ],
   "source": [
    "from time import gmtime, strftime\n",
    "\n",
    "model_name = \"xgboost-serverless\" + strftime(\"%Y-%m-%d-%H-%M-%S\", gmtime())\n",
    "print(\"Model name: \" + model_name)\n",
    "\n",
    "# dummy environment variables\n",
    "byo_container_env_vars = {\"SAGEMAKER_CONTAINER_LOG_LEVEL\": \"20\", \"SOME_ENV_VAR\": \"myEnvVar\"}\n",
    "\n",
    "create_model_response = client.create_model(\n",
    "    ModelName=model_name,\n",
    "    Containers=[\n",
    "        {\n",
    "            \"Image\": image_uri,\n",
    "            \"Mode\": \"SingleModel\",\n",
    "            \"ModelDataUrl\": model_artifacts,\n",
    "            \"Environment\": byo_container_env_vars,\n",
    "        }\n",
    "    ],\n",
    "    ExecutionRoleArn=role,\n",
    ")\n",
    "\n",
    "print(\"Model Arn: \" + create_model_response[\"ModelArn\"])"
   ]
  },
  {
   "cell_type": "markdown",
   "id": "2e3339d9",
   "metadata": {},
   "source": [
    "### Endpoint Configuration Creation\n",
    "\n",
    "This is where you can adjust the **Serverless Configuration** for your endpoint. The current max concurrent invocations for a single endpoint, known as MaxConcurrency, can be any value from **1 to 200**, and MemorySize can be any of the following: **1024 MB, 2048 MB, 3072 MB, 4096 MB, 5120 MB, or 6144 MB.**"
   ]
  },
  {
   "cell_type": "code",
   "execution_count": 19,
   "id": "e0c21d74",
   "metadata": {},
   "outputs": [
    {
     "name": "stdout",
     "output_type": "stream",
     "text": [
      "Endpoint Configuration Arn: arn:aws:sagemaker:ca-central-1:224670572127:endpoint-config/xgboost-serverless-epc2023-03-22-23-35-32\n"
     ]
    }
   ],
   "source": [
    "xgboost_epc_name = \"xgboost-serverless-epc\" + strftime(\"%Y-%m-%d-%H-%M-%S\", gmtime())\n",
    "\n",
    "endpoint_config_response = client.create_endpoint_config(\n",
    "    EndpointConfigName=xgboost_epc_name,\n",
    "    ProductionVariants=[\n",
    "        {\n",
    "            \"VariantName\": \"byoVariant\",\n",
    "            \"ModelName\": model_name,\n",
    "            \"ServerlessConfig\": {\n",
    "                \"MemorySizeInMB\": 2048,\n",
    "                \"MaxConcurrency\": 1,\n",
    "            },\n",
    "        },\n",
    "    ],\n",
    ")\n",
    "\n",
    "print(\"Endpoint Configuration Arn: \" + endpoint_config_response[\"EndpointConfigArn\"])"
   ]
  },
  {
   "cell_type": "markdown",
   "id": "340b9c9d",
   "metadata": {},
   "source": [
    "### Serverless Endpoint Creation\n",
    "\n",
    "Now that we have an endpoint configuration, we can create a **serverless endpoint** and deploy our model to it. When creating the endpoint, provide the name of your endpoint configuration and a name for the new endpoint."
   ]
  },
  {
   "cell_type": "code",
   "execution_count": 20,
   "id": "78ca9a11",
   "metadata": {},
   "outputs": [
    {
     "name": "stdout",
     "output_type": "stream",
     "text": [
      "Endpoint Arn: arn:aws:sagemaker:ca-central-1:224670572127:endpoint/xgboost-serverless-ep2023-03-22-23-35-35\n"
     ]
    }
   ],
   "source": [
    "endpoint_name = \"xgboost-serverless-ep\" + strftime(\"%Y-%m-%d-%H-%M-%S\", gmtime())\n",
    "\n",
    "create_endpoint_response = client.create_endpoint(\n",
    "    EndpointName=endpoint_name,\n",
    "    EndpointConfigName=xgboost_epc_name,\n",
    ")\n",
    "\n",
    "print(\"Endpoint Arn: \" + create_endpoint_response[\"EndpointArn\"])"
   ]
  },
  {
   "cell_type": "markdown",
   "id": "e61cd6c0",
   "metadata": {},
   "source": [
    "Wait until the endpoint status is InService before invoking the endpoint."
   ]
  },
  {
   "cell_type": "code",
   "execution_count": 21,
   "id": "2f265cce",
   "metadata": {},
   "outputs": [
    {
     "name": "stdout",
     "output_type": "stream",
     "text": [
      "Creating\n",
      "Creating\n",
      "Creating\n",
      "Creating\n",
      "Creating\n",
      "Creating\n",
      "Creating\n",
      "Creating\n",
      "Creating\n",
      "Creating\n",
      "Creating\n",
      "InService\n"
     ]
    },
    {
     "data": {
      "text/plain": [
       "{'EndpointName': 'xgboost-serverless-ep2023-03-22-23-35-35',\n",
       " 'EndpointArn': 'arn:aws:sagemaker:ca-central-1:224670572127:endpoint/xgboost-serverless-ep2023-03-22-23-35-35',\n",
       " 'EndpointConfigName': 'xgboost-serverless-epc2023-03-22-23-35-32',\n",
       " 'ProductionVariants': [{'VariantName': 'byoVariant',\n",
       "   'DeployedImages': [{'SpecifiedImage': '341280168497.dkr.ecr.ca-central-1.amazonaws.com/sagemaker-xgboost:1.0-1-cpu-py3',\n",
       "     'ResolvedImage': '341280168497.dkr.ecr.ca-central-1.amazonaws.com/sagemaker-xgboost@sha256:ab672da6ba33b6bcf86c3588c823a1adf43bcac4a5ab6cf2aab1b74a9fe27578',\n",
       "     'ResolutionTime': datetime.datetime(2023, 3, 22, 23, 35, 36, 469000, tzinfo=tzlocal())}],\n",
       "   'CurrentWeight': 1.0,\n",
       "   'DesiredWeight': 1.0,\n",
       "   'CurrentInstanceCount': 0,\n",
       "   'CurrentServerlessConfig': {'MemorySizeInMB': 2048, 'MaxConcurrency': 1}}],\n",
       " 'EndpointStatus': 'InService',\n",
       " 'CreationTime': datetime.datetime(2023, 3, 22, 23, 35, 36, 25000, tzinfo=tzlocal()),\n",
       " 'LastModifiedTime': datetime.datetime(2023, 3, 22, 23, 38, 26, 690000, tzinfo=tzlocal()),\n",
       " 'ResponseMetadata': {'RequestId': '7e9e09fb-af7c-4edb-85f8-89edc73152b8',\n",
       "  'HTTPStatusCode': 200,\n",
       "  'HTTPHeaders': {'x-amzn-requestid': '7e9e09fb-af7c-4edb-85f8-89edc73152b8',\n",
       "   'content-type': 'application/x-amz-json-1.1',\n",
       "   'content-length': '826',\n",
       "   'date': 'Wed, 22 Mar 2023 23:38:27 GMT'},\n",
       "  'RetryAttempts': 0}}"
      ]
     },
     "execution_count": 21,
     "metadata": {},
     "output_type": "execute_result"
    }
   ],
   "source": [
    "# wait for endpoint to reach a terminal state (InService) using describe endpoint\n",
    "import time\n",
    "\n",
    "describe_endpoint_response = client.describe_endpoint(EndpointName=endpoint_name)\n",
    "\n",
    "while describe_endpoint_response[\"EndpointStatus\"] == \"Creating\":\n",
    "    describe_endpoint_response = client.describe_endpoint(EndpointName=endpoint_name)\n",
    "    print(describe_endpoint_response[\"EndpointStatus\"])\n",
    "    time.sleep(15)\n",
    "\n",
    "describe_endpoint_response"
   ]
  },
  {
   "cell_type": "markdown",
   "id": "f0e00b0a",
   "metadata": {},
   "source": [
    "### Endpoint Invocation"
   ]
  },
  {
   "cell_type": "markdown",
   "id": "2bfc0db7",
   "metadata": {},
   "source": [
    "Invoke the endpoint by sending a request to it. The following is a sample data point grabbed from the CSV file downloaded from the public Abalone dataset."
   ]
  },
  {
   "cell_type": "code",
   "execution_count": 22,
   "id": "6a041aaa",
   "metadata": {},
   "outputs": [
    {
     "name": "stdout",
     "output_type": "stream",
     "text": [
      "b'4.566554546356201'\n",
      "CPU times: user 39.5 ms, sys: 0 ns, total: 39.5 ms\n",
      "Wall time: 288 ms\n"
     ]
    }
   ],
   "source": [
    "%%time\n",
    "response = runtime.invoke_endpoint(\n",
    "    EndpointName=endpoint_name,\n",
    "    Body=b\".345,0.224414,.131102,0.042329,.279923,-0.110329,-0.099358,0.0\",\n",
    "    ContentType=\"text/csv\",\n",
    ")\n",
    "\n",
    "print(response[\"Body\"].read())"
   ]
  },
  {
   "cell_type": "markdown",
   "id": "b32961c7",
   "metadata": {},
   "source": [
    "Let's review the above output : CPU times: user 36.8 ms, sys: 0 ns, total: 36.8 ms \n",
    "\n",
    "user 36.8 ms ---> that shows the amount of time spent executing user-level code, which is code that is written in a higher-level language (in this case Python).\n",
    "\n",
    "sys 0 ns --> that shows the amount of time spent executing system-level code, which is code that interacts directly with the operating system. In this case is very small value that is considered as 0.\n",
    "\n",
    "total 36.8 --> The total amount of CPU time spent executing the code (i.e., the sum of user and sys values).\n",
    "\n",
    "Wall time: 326 ms --> the wall-clock time is the elapsed time between the start and end of the code block, as measured by a clock on the wall (i.e., a real-world clock). This includes time spent waiting for input/output operations, sleep calls, or other types ofactions or blocking calls that may not consume any CPU time but still takes time.\n",
    "\n",
    "In this example, the wall time was 326 ms, which is significantly longer than the CPU time of 36.8 ms. This indicates that the code spent a significant amount of time waiting for other things that as you are aware thar is becuase no container was there before the first request come."
   ]
  },
  {
   "cell_type": "markdown",
   "id": "bf7bf987",
   "metadata": {},
   "source": [
    "## Assignment:\n",
    "\n",
    "1- Now that you learn how to get the time spent to get the reponse, go back to that real-time notebook and compare the CPU time and Wall time of real time with serverless and explain why they are different.\n",
    "\n",
    "2- Use the above cell to re-send an inferencing request to the serverless endpoint immidiately after the first request. Do you see an improvmen in the wall time. If yes why?"
   ]
  },
  {
   "cell_type": "markdown",
   "id": "461c8b5e",
   "metadata": {},
   "source": [
    "# Answer 1\n",
    "- Now that you learn how to get the time spent to get the reponse, go back to that real-time notebook and compare the CPU time and Wall time of real time with serverless and explain why they are different."
   ]
  },
  {
   "attachments": {
    "image.png": {
     "image/png": "[encoded data removed]"
    }
   },
   "cell_type": "markdown",
   "id": "a7145fcc",
   "metadata": {},
   "source": [
    "#### output when run in real time notebook\n",
    "![image.png](attachment:image.png)"
   ]
  },
  {
   "cell_type": "markdown",
   "id": "d4872dc9",
   "metadata": {},
   "source": [
    "- When we compare serverless with real time, it is noticed that the serverless wall time, cpu time, sys time, and total of it  is much less than the real time.\n",
    "\n",
    "- When searched it came to noticed that Serverless inference is often faster than real-time inference because serverless architectures can leverage elastic compute resources that can scale automatically based on demand.\n",
    "\n",
    "- In traditional real-time inference, a fixed amount of compute resources are allocated to handle incoming requests. If the number of requests exceeds the capacity of the allocated resources, it can lead to bottlenecks, slow response times, or even service downtime. Additionally, it can be challenging to predict the exact number of requests at any given time, which means that either overprovisioning or underprovisioning of resources is a possibility.\n",
    "\n",
    "- Serverless inference, on the other hand, allows for automatic scaling of compute resources based on demand. The infrastructure automatically allocates resources to handle incoming requests, and as the number of requests increases, additional resources are added to ensure that the service can handle the load without any downtime or performance degradation. This on-demand scaling ensures that the required compute resources are always available to handle incoming requests, which can lead to faster and more consistent response times.\n",
    "\n",
    "- Another factor that can contribute to the faster performance of serverless inference is the ability to cache results. Since serverless functions are stateless, they can quickly return cached results for frequently requested data. This can further reduce the overall response time and improve the performance of the service.\n",
    "\n",
    "- Overall, serverless inference can be faster than real-time inference because of its ability to dynamically allocate compute resources and cache results. These advantages can lead to improved performance, faster response times, and better scalability."
   ]
  },
  {
   "cell_type": "markdown",
   "id": "0ba88936",
   "metadata": {},
   "source": [
    "# Answer 2\n",
    "-  Use the above cell to re-send an inferencing request to the serverless endpoint immidiately after the first request. Do you see an improvmen in the wall time. If yes why?"
   ]
  },
  {
   "cell_type": "code",
   "execution_count": 25,
   "id": "b9272c80",
   "metadata": {},
   "outputs": [
    {
     "name": "stdout",
     "output_type": "stream",
     "text": [
      "b'4.566554546356201'\n",
      "CPU times: user 0 ns, sys: 3.81 ms, total: 3.81 ms\n",
      "Wall time: 71.2 ms\n"
     ]
    }
   ],
   "source": [
    "%%time\n",
    "response = runtime.invoke_endpoint(\n",
    "    EndpointName=endpoint_name,\n",
    "    Body=b\".345,0.224414,.131102,0.042329,.279923,-0.110329,-0.099358,0.0\",\n",
    "    ContentType=\"text/csv\",\n",
    ")\n",
    "\n",
    "print(response[\"Body\"].read())"
   ]
  },
  {
   "cell_type": "markdown",
   "id": "29405c41",
   "metadata": {},
   "source": [
    "- After second inferencing request is sent to a serverless endpoint immediately after the first request, it was seen an improvement in wall time due to the serverless endpoint's ability to reuse some of the resources that were allocated for the first request.\n",
    "\n",
    "- I think this is because when a serverless function is invoked, the infrastructure automatically provisions the required compute resources to handle the request. These resources may include CPU, memory, and network bandwidth. When the request is completed, the infrastructure deallocates the resources, making them available for other requests.\n",
    "\n",
    "- If a second request is sent to the same serverless endpoint immediately after the first request, the infrastructure may reuse some of the resources that were allocated for the first request. For example, if the second request has similar compute requirements as the first request, the infrastructure may reuse the same container that was created for the first request. This can result in a faster response time for the second request since the container is already warm and does not need to be cold-started.\n",
    "\n",
    "- However, it's important to note that this improvement in response time may be limited by the concurrency limits set on the serverless endpoint. If the second request is sent while the first request is still being processed, the infrastructure may need to provision additional compute resources to handle the second request, which can lead to a longer response time.\n",
    "\n",
    "- In summary, sending a second inferencing request to a serverless endpoint immediately after the first request can lead to an improvement in wall time due to the potential reuse of resources, but this improvement may be limited by concurrency limits and other factors."
   ]
  },
  {
   "cell_type": "markdown",
   "id": "49b7ad08",
   "metadata": {},
   "source": [
    "## Please delete the endpoint in the console before you close this session"
   ]
  }
 ],
 "metadata": {
  "kernelspec": {
   "display_name": "conda_python3",
   "language": "python",
   "name": "conda_python3"
  },
  "language_info": {
   "codemirror_mode": {
    "name": "ipython",
    "version": 3
   },
   "file_extension": ".py",
   "mimetype": "text/x-python",
   "name": "python",
   "nbconvert_exporter": "python",
   "pygments_lexer": "ipython3",
   "version": "3.10.8"
  }
 },
 "nbformat": 4,
 "nbformat_minor": 5
}
